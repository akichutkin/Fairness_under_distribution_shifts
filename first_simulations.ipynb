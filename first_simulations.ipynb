{
 "cells": [
  {
   "cell_type": "markdown",
   "metadata": {},
   "source": [
    "# 13/05/2024: First Simulations \n",
    "\n",
    "Serves the purpose to understand the problem of fairness under distribution shifts closer and to observe what happens when different (fair) models get transferred to different environments"
   ]
  },
  {
   "cell_type": "markdown",
   "metadata": {},
   "source": [
    "### 0. Import of all neccesary packages "
   ]
  },
  {
   "cell_type": "code",
   "execution_count": 2,
   "metadata": {},
   "outputs": [],
   "source": [
    "import numpy as np  \n",
    "import pandas as pd\n",
    "import tqdm\n",
    "import matplotlib.pyplot as plt\n",
    "from scipy.stats import entropy, chi2_contingency, norm, ttest_1samp\n",
    "import scipy.spatial.distance as distance\n",
    "import statsmodels.stats.multitest as multitest\n",
    "from folktables import ACSDataSource\n",
    "import statsmodels.api as sm\n"
   ]
  },
  {
   "cell_type": "code",
   "execution_count": 7,
   "metadata": {},
   "outputs": [],
   "source": [
    "#Create sample hiring data\n",
    "\n",
    "def hiring_data(shift, n=1000,d=0.09):\n",
    "    \n",
    "    np.random.seed(36)\n",
    "    \n",
    "    U = np.random.normal(0, 1, n)\n",
    "    X = np.random.binomial(1,np.exp(U)/(1+np.exp(U)),n)\n",
    "    Z = np.random.binomial(1,np.exp(U)/(1+np.exp(U)),n)\n",
    "    W = np.random.binomial(1,0.3*(np.abs(X-Z)) + 0.1,n)\n",
    "    Y = np.random.binomial(1,(1/5)*(X+Z-2*X*Z)+(1/4)*W+0.02,n)\n",
    "    sample_1 = pd.DataFrame({'X':X, 'Z':Z, 'W':W, 'Y':Y})\n",
    "\n",
    "    if shift == 1:\n",
    "        U = np.random.normal(0, 1, n)\n",
    "        X = np.random.binomial(1,np.exp(U)/(1+np.exp(U)),n)\n",
    "        Z = np.random.binomial(1,np.exp(U)/(1+np.exp(U)),n)\n",
    "        W = np.random.binomial(1,0.3*(np.abs(X-Z)) + 0.1,n)\n",
    "        Y = np.random.binomial(1,(1/5)*(X+Z-2*X*Z)+(1/4)*W + 0.02 + d,n)\n",
    "        sample_2 = pd.DataFrame({'X':X, 'Z':Z, 'W':W, 'Y':Y})\n",
    "    \n",
    "    else:       \n",
    "        U = np.random.normal(0, 1, n)\n",
    "        X = np.random.binomial(1,np.exp(U)/(1+np.exp(U)),n)\n",
    "        Z = np.random.binomial(1,np.exp(U)/(1+np.exp(U)),n)\n",
    "        W = np.random.binomial(1,0.3*(np.abs(X-Z)) + 0.1,n)\n",
    "        Y = np.random.binomial(1,(1/5)*(X+Z-2*X*Z)+(1/4)*W+0.02,n)\n",
    "\n",
    "        sample_2 = pd.DataFrame({'X':X, 'Z':Z, 'W':W, 'Y':Y})\n",
    "    \n",
    "    return sample_1, sample_2\n",
    "\n",
    "sample_1, sample_2 = hiring_data(0)\n",
    "_ , sample_3 = hiring_data(1)"
   ]
  },
  {
   "cell_type": "code",
   "execution_count": 4,
   "metadata": {},
   "outputs": [
    {
     "name": "stdout",
     "output_type": "stream",
     "text": [
      "Divergences between sample 1 and sample 2: KL = 0.0141, JS = 0.0601\n",
      "Divergences between sample 1 and sample 3: KL = 0.0665, JS = 0.1412\n"
     ]
    }
   ],
   "source": [
    "#Compute conditionals of Y on X, Z, W\n",
    "p_y_xwz_s1 = sample_1.groupby(['X','W','Z'])['Y'].mean().reset_index().values\n",
    "p_y_xwz_s2 = sample_2.groupby(['X','W','Z'])['Y'].mean().reset_index().values\n",
    "p_y_xwz_s3 = sample_3.groupby(['X','W','Z'])['Y'].mean().reset_index().values\n",
    "#Create index array\n",
    "index = [\"P(Y=1|X=0,W=0,Z=0)\", \"P(Y=1|X=0,W=0,Z=1)\", \"P(Y=1|X=0,W=1,Z=0)\", \"P(Y=1|X=0,W=1,Z=1)\", \"P(Y=1|X=1,W=0,Z=0)\", \"P(Y=1|X=1,W=0,Z=1)\", \"P(Y=1|X=1,W=1,Z=0)\", \"P(Y=1|X=1,W=1,Z=1)\"]\n",
    "#Create dataframe storing conditionals\n",
    "p_y_xwz = pd.DataFrame({'sample_1':p_y_xwz_s1[:,3], 'sample_2':p_y_xwz_s2[:,3], 'sample_3':p_y_xwz_s3[:,3]}, index = index)\n",
    "\n",
    "#Compute differences between sample 1 and sample 2\n",
    "diff_1_2 = p_y_xwz['sample_1'] - p_y_xwz['sample_2']\n",
    "#Turn into dataframe\n",
    "diff_1_2 = pd.DataFrame(diff_1_2, columns = ['diff_1_2'])\n",
    "#compute kl divergence between sample 1 and sample 2\n",
    "kl_1_2 = entropy(p_y_xwz['sample_1'], p_y_xwz['sample_2'])\n",
    "#compute js divergence between sample 1 and sample 2\n",
    "js_1_2 = distance.jensenshannon(p_y_xwz['sample_1'], p_y_xwz['sample_2'])\n",
    "#Compute differences between sample 1 and sample 3\n",
    "diff_1_3 = p_y_xwz['sample_1'] - p_y_xwz['sample_3']\n",
    "#Turn into dataframe\n",
    "diff_1_3 = pd.DataFrame(diff_1_3, columns = ['diff_1_3'])\n",
    "#compute kl divergence between sample 1 and sample 3\n",
    "kl_1_3 = entropy(p_y_xwz['sample_1'], p_y_xwz['sample_3'])\n",
    "#compute js divergence between sample 1 and sample 3\n",
    "js_1_3 = distance.jensenshannon(p_y_xwz['sample_1'], p_y_xwz['sample_3'])\n",
    "\n",
    "print(f\"Divergences between sample 1 and sample 2: KL = {np.round(kl_1_2,4)}, JS = {np.round(js_1_2,4)}\")\n",
    "print(f\"Divergences between sample 1 and sample 3: KL = {np.round(kl_1_3,4)}, JS = {np.round(js_1_3,4)}\")\n"
   ]
  },
  {
   "cell_type": "code",
   "execution_count": 17,
   "metadata": {},
   "outputs": [
    {
     "name": "stderr",
     "output_type": "stream",
     "text": [
      "Bootstrapping: 100%|██████████| 20000/20000 [01:25<00:00, 234.20it/s]\n",
      "c:\\Users\\41782\\miniconda3\\envs\\Thesis\\lib\\site-packages\\numpy\\lib\\function_base.py:4655: RuntimeWarning: invalid value encountered in subtract\n",
      "  diff_b_a = subtract(b, a)\n",
      "Bootstrapping: 100%|██████████| 20000/20000 [01:25<00:00, 234.25it/s]\n"
     ]
    }
   ],
   "source": [
    "def bootstrap_divergences(sample_a, sample_b, B=20000):\n",
    "    # Compute conditionals of Y on X, Z, W\n",
    "    p_y_xwz_s1 = sample_a.groupby(['X', 'W', 'Z'])['Y'].mean().reset_index()['Y'].values\n",
    "    p_y_xwz_s2 = sample_b.groupby(['X', 'W', 'Z'])['Y'].mean().reset_index()['Y'].values\n",
    "\n",
    "    # Compute observed divergences\n",
    "    kl = entropy(p_y_xwz_s1, p_y_xwz_s2)\n",
    "    js = distance.jensenshannon(p_y_xwz_s1, p_y_xwz_s2)\n",
    "\n",
    "    # Create arrays to store bootstrap divergences\n",
    "    kl_boot = np.zeros(B)\n",
    "    js_boot = np.zeros(B)\n",
    "\n",
    "    for i in tqdm.tqdm(range(B), desc='Bootstrapping'):\n",
    "        # Pool samples\n",
    "        #pooled = pd.concat([sample_a, sample_b])\n",
    "        \n",
    "        # Create bootstrap samples\n",
    "        #bootstrap_sample_a = pooled.sample(len(sample_a), replace=True)\n",
    "        #bootstrap_sample_b = pooled.sample(len(sample_b), replace=True)\n",
    "\n",
    "        bootstrap_sample_a = sample_a.sample(len(sample_a), replace=True)\n",
    "        bootstrap_sample_b = sample_b.sample(len(sample_b), replace=True)\n",
    "\n",
    "        # Compute conditionals of Y on X, Z, W\n",
    "        p_y_xwz_s1 = bootstrap_sample_a.groupby(['X', 'W', 'Z'])['Y'].mean().reset_index()['Y'].values\n",
    "        p_y_xwz_s2 = bootstrap_sample_b.groupby(['X', 'W', 'Z'])['Y'].mean().reset_index()['Y'].values\n",
    "        \n",
    "        # Compute divergences\n",
    "        kl_boot[i] = entropy(p_y_xwz_s1, p_y_xwz_s2) \n",
    "        js_boot[i] = distance.jensenshannon(p_y_xwz_s1, p_y_xwz_s2) \n",
    "\n",
    "    # Compute p-values: fraction of absolute bootstrap divergences that are greater or equal than the absolute observed divergence\n",
    "    p_kl = np.mean(np.abs(kl_boot) >= np.abs(kl))\n",
    "    p_js = np.mean(np.abs(js_boot) >= np.abs(js))\n",
    "    \n",
    "    #Compute a CI for the divergences\n",
    "    lower_bound_kl = 2*kl-np.quantile(kl_boot,0.975)\n",
    "    upper_bound_kl = 2*kl-np.quantile(kl_boot,0.025)\n",
    "    lower_bound_js = 2*js-np.quantile(js_boot,0.975)\n",
    "    upper_bound_js = 2*js-np.quantile(js_boot,0.025)\n",
    "    \n",
    "    ci_kl = [lower_bound_kl, upper_bound_kl]\n",
    "    ci_js = [lower_bound_js, upper_bound_js]\n",
    "\n",
    "    return kl, js, kl_boot, js_boot, p_kl, p_js, ci_kl, ci_js\n",
    "\n",
    "kl_s1s2, js_s1s2, kl_boot_s1s2, js_boot_s1s2, p_kl_s1s2, p_js_s1s2,ci_kl_s1s2, ci_js_s1s2 = bootstrap_divergences(sample_1, sample_2)\n",
    "kl_s1s3, js_s1s3, kl_boot_s1s3, js_boot_s1s3, p_kl_s1s3, p_js_s1s3, ci_kl_s1s3, ci_js_s1s3 = bootstrap_divergences(sample_1, sample_3)\n"
   ]
  },
  {
   "cell_type": "code",
   "execution_count": 16,
   "metadata": {},
   "outputs": [
    {
     "data": {
      "image/png": "[encoded data removed]",
      "text/plain": [
       "<Figure size 1000x500 with 2 Axes>"
      ]
     },
     "metadata": {},
     "output_type": "display_data"
    },
    {
     "data": {
      "text/plain": [
       "<Figure size 640x480 with 0 Axes>"
      ]
     },
     "metadata": {},
     "output_type": "display_data"
    },
    {
     "data": {
      "image/png": "[encoded data removed]",
      "text/plain": [
       "<Figure size 1000x500 with 2 Axes>"
      ]
     },
     "metadata": {},
     "output_type": "display_data"
    },
    {
     "data": {
      "text/plain": [
       "<Figure size 640x480 with 0 Axes>"
      ]
     },
     "metadata": {},
     "output_type": "display_data"
    }
   ],
   "source": [
    "#Histogram of bootstrap divergences\n",
    "fig, axs = plt.subplots(1, 2, figsize=(10, 5))\n",
    "#need to remove inf values in kl_boot_s1s2\n",
    "kl_boot_s1s2 = kl_boot_s1s2[~np.isinf(kl_boot_s1s2)]\n",
    "axs[0].hist(kl_boot_s1s2, bins=50, alpha=0.3, color='blue', edgecolor='black')\n",
    "axs[0].axvline(kl_s1s2, color='red', linestyle='dashed', linewidth=2)\n",
    "axs[0].set_title('KL divergence Sample 1 vs Sample 2')\n",
    "axs[0].set_xlabel('KL divergence')\n",
    "axs[0].set_ylabel('Frequency')\n",
    "#add the CI as shaded area\n",
    "axs[0].fill_betweenx([0, 1000], 0, ci_kl_s1s2[1], color='red', alpha=0.3)\n",
    "#add pvalue \n",
    "handles = [plt.Line2D([0], [0], color='blue', lw=1, label='Bootstrap'), plt.Line2D([0], [0], color='red', lw=1, label='Observed')]\n",
    "axs[0].legend(handles=handles) # + [plt.Line2D([0], [0], color='none', lw=1, label=f'p-value = {p_kl_s1s2}')])\n",
    "\n",
    "axs[1].hist(js_boot_s1s2, bins=50, alpha=0.3, color='blue', edgecolor='black')\n",
    "axs[1].axvline(js_s1s2, color='red', linestyle='dashed', linewidth=2)\n",
    "axs[1].set_title('JS divergence Sample 1 vs Sample 2')\n",
    "axs[1].set_xlabel('JS divergence')\n",
    "axs[1].set_ylabel('Frequency')\n",
    "#add the CI as shaded area\n",
    "axs[1].fill_betweenx([0, 1000], 0 if ci_js_s1s2[0] < 0 else  ci_js_s1s2[0], ci_js_s1s2[1], color='red', alpha=0.3)\n",
    "#add pvalue\n",
    "handles = [plt.Line2D([0], [0], color='blue', lw=1, label='Bootstrap'), plt.Line2D([0], [0], color='red', lw=1, label='Observed')]\n",
    "axs[1].legend(handles=handles)# + [plt.Line2D([0], [0], color='none', lw=1, label=f'p-value = {p_js_s1s2}')])\n",
    "plt.show()\n",
    "plt.tight_layout()\n",
    "\n",
    "#Histogram of bootstrap divergences\n",
    "fig, axs = plt.subplots(1, 2, figsize=(10, 5))\n",
    "#need to remove inf values in kl_boot_s1s3\n",
    "kl_boot_s1s3 = kl_boot_s1s3[~np.isinf(kl_boot_s1s3)]\n",
    "axs[0].hist(kl_boot_s1s3, bins=50, alpha=0.3, color='blue', edgecolor='black')\n",
    "axs[0].axvline(kl_s1s3, color='red', linestyle='dashed', linewidth=2)\n",
    "axs[0].set_title('KL divergence Sample 1 vs Sample 3')\n",
    "axs[0].set_xlabel('KL divergence')\n",
    "axs[0].set_ylabel('Frequency')\n",
    "#add the CI as shaded area\n",
    "axs[0].fill_betweenx([0, 1000],ci_kl_s1s3[0] , ci_kl_s1s3[1], color='red', alpha=0.3)\n",
    "#add pvalue\n",
    "handles = [plt.Line2D([0], [0], color='blue', lw=1, label='Bootstrap'), plt.Line2D([0], [0], color='red', lw=1, label='Observed')]\n",
    "axs[0].legend(handles=handles)# + [plt.Line2D([0], [0], color='none', lw=1, label=f'p-value = {p_kl_s1s3}')])\n",
    "\n",
    "axs[1].hist(js_boot_s1s3, bins=50, alpha=0.3, color='blue', edgecolor='black')\n",
    "axs[1].axvline(js_s1s3, color='red', linestyle='dashed', linewidth=2)\n",
    "axs[1].set_title('JS divergence Sample 1 vs Sample 3')\n",
    "axs[1].set_xlabel('JS divergence')\n",
    "axs[1].set_ylabel('Frequency')\n",
    "axs[1].fill_betweenx([0, 1000],ci_js_s1s3[0], ci_js_s1s3[1], color='red', alpha=0.3)\n",
    "#add pvalue\n",
    "handles = [plt.Line2D([0], [0], color='blue', lw=1, label='Bootstrap'), plt.Line2D([0], [0], color='red', lw=1, label='Observed')]\n",
    "axs[1].legend(handles=handles)# + [plt.Line2D([0], [0], color='none', lw=1, label=f'p-value = {p_js_s1s3}')])\n",
    "plt.show()\n",
    "plt.tight_layout()\n",
    "\n"
   ]
  },
  {
   "cell_type": "code",
   "execution_count": 2,
   "metadata": {},
   "outputs": [
    {
     "name": "stdout",
     "output_type": "stream",
     "text": [
      "Requirement already satisfied: fairlearn in c:\\users\\41782\\miniconda3\\envs\\thesis\\lib\\site-packages (0.10.0)\n",
      "Requirement already satisfied: numpy>=1.24.4 in c:\\users\\41782\\miniconda3\\envs\\thesis\\lib\\site-packages (from fairlearn) (1.26.4)\n",
      "Requirement already satisfied: pandas>=2.0.3 in c:\\users\\41782\\miniconda3\\envs\\thesis\\lib\\site-packages (from fairlearn) (2.2.2)\n",
      "Requirement already satisfied: scikit-learn>=1.2.1 in c:\\users\\41782\\miniconda3\\envs\\thesis\\lib\\site-packages (from fairlearn) (1.4.2)\n",
      "Requirement already satisfied: scipy>=1.9.3 in c:\\users\\41782\\miniconda3\\envs\\thesis\\lib\\site-packages (from fairlearn) (1.13.0)\n",
      "Requirement already satisfied: python-dateutil>=2.8.2 in c:\\users\\41782\\miniconda3\\envs\\thesis\\lib\\site-packages (from pandas>=2.0.3->fairlearn) (2.9.0.post0)\n",
      "Requirement already satisfied: pytz>=2020.1 in c:\\users\\41782\\miniconda3\\envs\\thesis\\lib\\site-packages (from pandas>=2.0.3->fairlearn) (2024.1)\n",
      "Requirement already satisfied: tzdata>=2022.7 in c:\\users\\41782\\miniconda3\\envs\\thesis\\lib\\site-packages (from pandas>=2.0.3->fairlearn) (2024.1)\n",
      "Requirement already satisfied: joblib>=1.2.0 in c:\\users\\41782\\miniconda3\\envs\\thesis\\lib\\site-packages (from scikit-learn>=1.2.1->fairlearn) (1.2.0)\n",
      "Requirement already satisfied: threadpoolctl>=2.0.0 in c:\\users\\41782\\miniconda3\\envs\\thesis\\lib\\site-packages (from scikit-learn>=1.2.1->fairlearn) (2.2.0)\n",
      "Requirement already satisfied: six>=1.5 in c:\\users\\41782\\miniconda3\\envs\\thesis\\lib\\site-packages (from python-dateutil>=2.8.2->pandas>=2.0.3->fairlearn) (1.16.0)\n"
     ]
    }
   ],
   "source": [
    "import numpy as np\n",
    "import pandas as pd \n",
    "import graphviz as gr\n",
    "from sklearn.model_selection import train_test_split\n",
    "from sklearn.linear_model import LogisticRegressionCV #, LogisticRegression\n",
    "from sklearn.metrics import  accuracy_score\n",
    "#from xgboost import XGBClassifier, DMatrix\n",
    "#from typing import Tuple\n",
    "!pip install fairlearn\n",
    "from fairlearn.reductions import ExponentiatedGradient, DemographicParity #,  ErrorRate, GridSearch    \n",
    "\n",
    "#from scipy.stats import bernoulli\n",
    "random_seed = 10\n"
   ]
  },
  {
   "cell_type": "markdown",
   "metadata": {},
   "source": [
    "## 1. Create a dataset/ import a real world dataset"
   ]
  },
  {
   "cell_type": "markdown",
   "metadata": {},
   "source": [
    "We will adopt the Berkely Admissions Example."
   ]
  },
  {
   "cell_type": "markdown",
   "metadata": {},
   "source": [
    "1.1 We at first create a function which lets us generate different versions of the Berkeley Admissions example and its corresponding DAG "
   ]
  },
  {
   "cell_type": "code",
   "execution_count": 179,
   "metadata": {},
   "outputs": [],
   "source": [
    "#Function generating different versions of the scenario \n",
    "def berkeley_admissions_data(n, Ux, Ud, effect_x_d, Uy, effect_x_y, effect_d_y,effect_z_d, effect_z_y):\n",
    "    #Generate variables with respect to causal hierachy\n",
    "    #X -> Gender (0,1), 0 if applicant female, 1 if applicant male \n",
    "    p_x = Ux\n",
    "    X = np.random.binomial(1, p_x, n)\n",
    "    #Z -> Household income in thousands ~ N(75, 30)\n",
    "    mu_Z = 150*Ux\n",
    "    sigma_Z = 60*Ux\n",
    "    Z = np.random.normal(mu_Z, sigma_Z, n)\n",
    "    #D -> Department (0,1), 0 if applicant applies to department A, 1 if applicant applies to department B\n",
    "    p_d = Ud + effect_x_d*X +effect_z_d*(Z - np.min(Z))/(np.max(Z) - np.min(Z))\n",
    "    D = np.random.binomial(1, p_d, n)\n",
    "    #Y -> Admission (0,1), 0 if applicant rejected, 1 if applicant admitted\n",
    "    p_y = Uy + effect_x_y*X + effect_d_y*D + effect_z_y*(Z - np.min(Z))/(np.max(Z) - np.min(Z))\n",
    "    Y = np.random.binomial(1, p_y, n)   \n",
    "\n",
    "    #Return the data as a pandas dataframe\n",
    "    berkeley_admissions_data_df = pd.DataFrame({'X': X,'Z':Z , 'D': D, 'Y': Y})\n",
    "\n",
    "    #also return the assumed causal graph associated with the data\n",
    "    DAG = gr.Digraph()\n",
    "    #X will always be our source node\n",
    "    DAG.node('X')\n",
    "    #Add node D\n",
    "    DAG.node('D')\n",
    "    #Add node Y\n",
    "    DAG.node('Y')\n",
    "    #If the effect of X on D is non-zero, add an edge from X to D\n",
    "    if effect_x_d != 0:\n",
    "        DAG.edge('X', 'D')\n",
    "    #If the effect of X on Y is non-zero, add an edge from X to Y\n",
    "    if effect_x_y != 0:\n",
    "        DAG.edge('X', 'Y')\n",
    "    #If the effect of D on Y is non-zero, add an edge from D to Y\n",
    "    if effect_d_y != 0:\n",
    "        DAG.edge('D', 'Y')\n",
    "    #If the effect of Z on D is non-zero, add an edge from Z to D\n",
    "    if effect_z_d != 0:\n",
    "        DAG.edge('Z', 'D')\n",
    "    #If the effect of Z on Y is non-zero, add an edge from Z to Y\n",
    "    if effect_z_y != 0:\n",
    "        DAG.edge('Z', 'Y')\n",
    "    #Bi-directed edge between X and Z\n",
    "    DAG.edge('X', 'Z', style='dashed', dir='both')\n",
    "\n",
    "    return berkeley_admissions_data_df, DAG\n",
    "\n",
    "\n",
    "    \n"
   ]
  },
  {
   "cell_type": "markdown",
   "metadata": {},
   "source": [
    "1.2 Now, we generate some data "
   ]
  },
  {
   "cell_type": "code",
   "execution_count": 180,
   "metadata": {},
   "outputs": [],
   "source": [
    "np.random.seed(random_seed)\n",
    "n=1000\n",
    "#Generate some data according to a modified version of  example 3.1, where there is a no direct effect from X to Y\n",
    "scm_no_de, dag_no_de = berkeley_admissions_data(n,0.5,0.25,0.4,0.1,0,0.3,0.2,0.5)\n",
    "#Generate some data according to a modified version of  example 3.1, where there is a direct effect from X to Y\n",
    "scm_de, dag_de = berkeley_admissions_data(n,0.5,0.25,0.25,0.1,0.3,0.3,0.2,0.3)\n",
    "\n"
   ]
  },
  {
   "cell_type": "markdown",
   "metadata": {},
   "source": [
    "1.3 We briefly explore the data and have a look at their DAGs "
   ]
  },
  {
   "cell_type": "code",
   "execution_count": 181,
   "metadata": {},
   "outputs": [
    {
     "name": "stdout",
     "output_type": "stream",
     "text": [
      "SCM with no direct effect from X to Y\n",
      "Gender distribution:  X\n",
      "0    0.503\n",
      "1    0.497\n",
      "Name: proportion, dtype: float64\n",
      "         D     Z     Y\n",
      "X=0  73.25  0.36  0.48\n",
      "X=1  75.60  0.77  0.61\n",
      "Conditional probability of Y = 1 given X = 1: 0.6137\n",
      "Conditional probability of Y = 1 given X = 0: 0.4811\n",
      "Total Variation: 0.1326\n",
      "DAG with no direct effect from X to Y\n"
     ]
    },
    {
     "data": {
      "image/svg+xml": [
       "<?xml version=\"1.0\" encoding=\"UTF-8\" standalone=\"no\"?>\n",
       "<!DOCTYPE svg PUBLIC \"-//W3C//DTD SVG 1.1//EN\"\n",
       " \"http://www.w3.org/Graphics/SVG/1.1/DTD/svg11.dtd\">\n",
       "<!-- Generated by graphviz version 2.50.0 (0)\n",
       " -->\n",
       "<!-- Pages: 1 -->\n",
       "<svg width=\"117pt\" height=\"260pt\"\n",
       " viewBox=\"0.00 0.00 117.00 260.00\" xmlns=\"http://www.w3.org/2000/svg\" xmlns:xlink=\"http://www.w3.org/1999/xlink\">\n",
       "<g id=\"graph0\" class=\"graph\" transform=\"scale(1 1) rotate(0) translate(4 256)\">\n",
       "<polygon fill=\"white\" stroke=\"transparent\" points=\"-4,4 -4,-256 113,-256 113,4 -4,4\"/>\n",
       "<!-- X -->\n",
       "<g id=\"node1\" class=\"node\">\n",
       "<title>X</title>\n",
       "<ellipse fill=\"none\" stroke=\"black\" cx=\"54\" cy=\"-234\" rx=\"27\" ry=\"18\"/>\n",
       "<text text-anchor=\"middle\" x=\"54\" y=\"-230.3\" font-family=\"Times New Roman,serif\" font-size=\"14.00\">X</text>\n",
       "</g>\n",
       "<!-- D -->\n",
       "<g id=\"node2\" class=\"node\">\n",
       "<title>D</title>\n",
       "<ellipse fill=\"none\" stroke=\"black\" cx=\"27\" cy=\"-90\" rx=\"27\" ry=\"18\"/>\n",
       "<text text-anchor=\"middle\" x=\"27\" y=\"-86.3\" font-family=\"Times New Roman,serif\" font-size=\"14.00\">D</text>\n",
       "</g>\n",
       "<!-- X&#45;&gt;D -->\n",
       "<g id=\"edge1\" class=\"edge\">\n",
       "<title>X&#45;&gt;D</title>\n",
       "<path fill=\"none\" stroke=\"black\" d=\"M50.74,-215.87C46.14,-191.67 37.69,-147.21 32.21,-118.39\"/>\n",
       "<polygon fill=\"black\" stroke=\"black\" points=\"35.57,-117.36 30.27,-108.19 28.7,-118.67 35.57,-117.36\"/>\n",
       "</g>\n",
       "<!-- Z -->\n",
       "<g id=\"node4\" class=\"node\">\n",
       "<title>Z</title>\n",
       "<ellipse fill=\"none\" stroke=\"black\" cx=\"82\" cy=\"-162\" rx=\"27\" ry=\"18\"/>\n",
       "<text text-anchor=\"middle\" x=\"82\" y=\"-158.3\" font-family=\"Times New Roman,serif\" font-size=\"14.00\">Z</text>\n",
       "</g>\n",
       "<!-- X&#45;&gt;Z -->\n",
       "<g id=\"edge5\" class=\"edge\">\n",
       "<title>X&#45;&gt;Z</title>\n",
       "<path fill=\"none\" stroke=\"black\" stroke-dasharray=\"5,2\" d=\"M64.44,-206.91C66.79,-201.02 69.29,-194.77 71.64,-188.89\"/>\n",
       "<polygon fill=\"black\" stroke=\"black\" points=\"61.1,-205.83 60.64,-216.41 67.6,-208.43 61.1,-205.83\"/>\n",
       "<polygon fill=\"black\" stroke=\"black\" points=\"74.95,-190.05 75.41,-179.47 68.45,-187.45 74.95,-190.05\"/>\n",
       "</g>\n",
       "<!-- Y -->\n",
       "<g id=\"node3\" class=\"node\">\n",
       "<title>Y</title>\n",
       "<ellipse fill=\"none\" stroke=\"black\" cx=\"54\" cy=\"-18\" rx=\"27\" ry=\"18\"/>\n",
       "<text text-anchor=\"middle\" x=\"54\" y=\"-14.3\" font-family=\"Times New Roman,serif\" font-size=\"14.00\">Y</text>\n",
       "</g>\n",
       "<!-- D&#45;&gt;Y -->\n",
       "<g id=\"edge2\" class=\"edge\">\n",
       "<title>D&#45;&gt;Y</title>\n",
       "<path fill=\"none\" stroke=\"black\" d=\"M33.4,-72.41C36.51,-64.34 40.33,-54.43 43.83,-45.35\"/>\n",
       "<polygon fill=\"black\" stroke=\"black\" points=\"47.13,-46.55 47.46,-35.96 40.6,-44.03 47.13,-46.55\"/>\n",
       "</g>\n",
       "<!-- Z&#45;&gt;D -->\n",
       "<g id=\"edge3\" class=\"edge\">\n",
       "<title>Z&#45;&gt;D</title>\n",
       "<path fill=\"none\" stroke=\"black\" d=\"M70.07,-145.81C62.79,-136.55 53.34,-124.52 45.15,-114.09\"/>\n",
       "<polygon fill=\"black\" stroke=\"black\" points=\"47.84,-111.86 38.91,-106.16 42.34,-116.18 47.84,-111.86\"/>\n",
       "</g>\n",
       "<!-- Z&#45;&gt;Y -->\n",
       "<g id=\"edge4\" class=\"edge\">\n",
       "<title>Z&#45;&gt;Y</title>\n",
       "<path fill=\"none\" stroke=\"black\" d=\"M78.62,-143.87C73.83,-119.56 65.01,-74.82 59.33,-46.01\"/>\n",
       "<polygon fill=\"black\" stroke=\"black\" points=\"62.76,-45.32 57.39,-36.19 55.89,-46.68 62.76,-45.32\"/>\n",
       "</g>\n",
       "</g>\n",
       "</svg>\n"
      ],
      "text/plain": [
       "<graphviz.graphs.Digraph at 0x1aeefd7b100>"
      ]
     },
     "metadata": {},
     "output_type": "display_data"
    },
    {
     "name": "stdout",
     "output_type": "stream",
     "text": [
      "\n",
      " SCM with direct effect from X to Y\n",
      "Gender distribution:  X\n",
      "0    0.503\n",
      "1    0.497\n",
      "Name: proportion, dtype: float64\n",
      "         D     Z     Y\n",
      "X=0  73.95  0.34  0.37\n",
      "X=1  73.27  0.63  0.77\n",
      "Conditional probability of Y = 1 given X = 1: 0.7732\n",
      "Conditional probability of Y = 1 given X = 0: 0.3706\n",
      "Total Variation: 0.4026\n",
      "DAG with direct effect from X to Y\n"
     ]
    },
    {
     "data": {
      "image/svg+xml": [
       "<?xml version=\"1.0\" encoding=\"UTF-8\" standalone=\"no\"?>\n",
       "<!DOCTYPE svg PUBLIC \"-//W3C//DTD SVG 1.1//EN\"\n",
       " \"http://www.w3.org/Graphics/SVG/1.1/DTD/svg11.dtd\">\n",
       "<!-- Generated by graphviz version 2.50.0 (0)\n",
       " -->\n",
       "<!-- Pages: 1 -->\n",
       "<svg width=\"122pt\" height=\"260pt\"\n",
       " viewBox=\"0.00 0.00 122.47 260.00\" xmlns=\"http://www.w3.org/2000/svg\" xmlns:xlink=\"http://www.w3.org/1999/xlink\">\n",
       "<g id=\"graph0\" class=\"graph\" transform=\"scale(1 1) rotate(0) translate(4 256)\">\n",
       "<polygon fill=\"white\" stroke=\"transparent\" points=\"-4,4 -4,-256 118.47,-256 118.47,4 -4,4\"/>\n",
       "<!-- X -->\n",
       "<g id=\"node1\" class=\"node\">\n",
       "<title>X</title>\n",
       "<ellipse fill=\"none\" stroke=\"black\" cx=\"32.47\" cy=\"-234\" rx=\"27\" ry=\"18\"/>\n",
       "<text text-anchor=\"middle\" x=\"32.47\" y=\"-230.3\" font-family=\"Times New Roman,serif\" font-size=\"14.00\">X</text>\n",
       "</g>\n",
       "<!-- D -->\n",
       "<g id=\"node2\" class=\"node\">\n",
       "<title>D</title>\n",
       "<ellipse fill=\"none\" stroke=\"black\" cx=\"41.47\" cy=\"-90\" rx=\"27\" ry=\"18\"/>\n",
       "<text text-anchor=\"middle\" x=\"41.47\" y=\"-86.3\" font-family=\"Times New Roman,serif\" font-size=\"14.00\">D</text>\n",
       "</g>\n",
       "<!-- X&#45;&gt;D -->\n",
       "<g id=\"edge1\" class=\"edge\">\n",
       "<title>X&#45;&gt;D</title>\n",
       "<path fill=\"none\" stroke=\"black\" d=\"M33.56,-215.87C35.09,-191.67 37.91,-147.21 39.74,-118.39\"/>\n",
       "<polygon fill=\"black\" stroke=\"black\" points=\"43.24,-118.39 40.38,-108.19 36.26,-117.95 43.24,-118.39\"/>\n",
       "</g>\n",
       "<!-- Y -->\n",
       "<g id=\"node3\" class=\"node\">\n",
       "<title>Y</title>\n",
       "<ellipse fill=\"none\" stroke=\"black\" cx=\"41.47\" cy=\"-18\" rx=\"27\" ry=\"18\"/>\n",
       "<text text-anchor=\"middle\" x=\"41.47\" y=\"-14.3\" font-family=\"Times New Roman,serif\" font-size=\"14.00\">Y</text>\n",
       "</g>\n",
       "<!-- X&#45;&gt;Y -->\n",
       "<g id=\"edge2\" class=\"edge\">\n",
       "<title>X&#45;&gt;Y</title>\n",
       "<path fill=\"none\" stroke=\"black\" d=\"M24.86,-216.68C12.18,-187.23 -10.35,-123.47 5.47,-72 8.76,-61.31 15.01,-50.85 21.4,-42.08\"/>\n",
       "<polygon fill=\"black\" stroke=\"black\" points=\"24.36,-43.98 27.72,-33.93 18.83,-39.69 24.36,-43.98\"/>\n",
       "</g>\n",
       "<!-- Z -->\n",
       "<g id=\"node4\" class=\"node\">\n",
       "<title>Z</title>\n",
       "<ellipse fill=\"none\" stroke=\"black\" cx=\"87.47\" cy=\"-162\" rx=\"27\" ry=\"18\"/>\n",
       "<text text-anchor=\"middle\" x=\"87.47\" y=\"-158.3\" font-family=\"Times New Roman,serif\" font-size=\"14.00\">Z</text>\n",
       "</g>\n",
       "<!-- X&#45;&gt;Z -->\n",
       "<g id=\"edge6\" class=\"edge\">\n",
       "<title>X&#45;&gt;Z</title>\n",
       "<path fill=\"none\" stroke=\"black\" stroke-dasharray=\"5,2\" d=\"M50.65,-209.87C56.66,-202.21 63.36,-193.69 69.37,-186.04\"/>\n",
       "<polygon fill=\"black\" stroke=\"black\" points=\"47.83,-207.79 44.41,-217.81 53.34,-212.11 47.83,-207.79\"/>\n",
       "<polygon fill=\"black\" stroke=\"black\" points=\"72.14,-188.18 75.56,-178.16 66.63,-183.86 72.14,-188.18\"/>\n",
       "</g>\n",
       "<!-- D&#45;&gt;Y -->\n",
       "<g id=\"edge3\" class=\"edge\">\n",
       "<title>D&#45;&gt;Y</title>\n",
       "<path fill=\"none\" stroke=\"black\" d=\"M41.47,-71.7C41.47,-63.98 41.47,-54.71 41.47,-46.11\"/>\n",
       "<polygon fill=\"black\" stroke=\"black\" points=\"44.97,-46.1 41.47,-36.1 37.97,-46.1 44.97,-46.1\"/>\n",
       "</g>\n",
       "<!-- Z&#45;&gt;D -->\n",
       "<g id=\"edge4\" class=\"edge\">\n",
       "<title>Z&#45;&gt;D</title>\n",
       "<path fill=\"none\" stroke=\"black\" d=\"M77.04,-145.12C71.27,-136.34 63.99,-125.26 57.52,-115.42\"/>\n",
       "<polygon fill=\"black\" stroke=\"black\" points=\"60.29,-113.26 51.87,-106.82 54.44,-117.1 60.29,-113.26\"/>\n",
       "</g>\n",
       "<!-- Z&#45;&gt;Y -->\n",
       "<g id=\"edge5\" class=\"edge\">\n",
       "<title>Z&#45;&gt;Y</title>\n",
       "<path fill=\"none\" stroke=\"black\" d=\"M87.95,-143.71C87.92,-125.35 86.27,-95.77 77.47,-72 73.6,-61.52 67.21,-51.09 60.89,-42.3\"/>\n",
       "<polygon fill=\"black\" stroke=\"black\" points=\"63.51,-39.97 54.69,-34.11 57.94,-44.2 63.51,-39.97\"/>\n",
       "</g>\n",
       "</g>\n",
       "</svg>\n"
      ],
      "text/plain": [
       "<graphviz.graphs.Digraph at 0x1aef0e886d0>"
      ]
     },
     "metadata": {},
     "output_type": "display_data"
    }
   ],
   "source": [
    "#Explore the data\n",
    "############################SCM with no direct effect from X to Y###############################################\n",
    "print('SCM with no direct effect from X to Y')\n",
    "#print gender distribution\n",
    "print(\"Gender distribution: \", scm_no_de['X'].value_counts(normalize=True))\n",
    "# group by X=0 and X=1 and then compute mean D, Z and Y\n",
    "#indices where X = 0\n",
    "indices_x0 = scm_no_de[scm_no_de['X'] == 0].index\n",
    "#indices where X = 1\n",
    "indices_x1 = scm_no_de[scm_no_de['X'] == 1].index\n",
    "#mean of D, Z and Y when X = 0\n",
    "mean_x0 = np.round(scm_no_de.loc[indices_x0].mean().drop('X'),2) \n",
    "#mean of D, Z and Y when X = 1\n",
    "mean_x1 = np.round(scm_no_de.loc[indices_x1].mean().drop('X'),2)\n",
    "#display in a table, where X = 0 and X = 1 are the rows and D, Z and Y are the columns\n",
    "print(pd.DataFrame(np.matrix([mean_x0, mean_x1]), columns=['D', 'Z', 'Y'], index=['X=0', 'X=1']))\n",
    "##Find conditional probability of Y = 1 given X = 1\n",
    "p_y_given_x1 = ((scm_no_de[scm_no_de['X'] == 1]['Y'] == 1).sum()) / len(scm_no_de[scm_no_de['X'] == 1]) \n",
    "#find conditional probability of Y = 1 given X = 0\n",
    "p_y_given_x0 = ((scm_no_de[scm_no_de['X'] == 0]['Y'] == 1).sum()) / len(scm_no_de[scm_no_de['X'] == 0])\n",
    "## find their difference\n",
    "print('Conditional probability of Y = 1 given X = 1:', np.round(p_y_given_x1, 4))\n",
    "print('Conditional probability of Y = 1 given X = 0:', np.round(p_y_given_x0, 4))\n",
    "tv = p_y_given_x1 - p_y_given_x0\n",
    "print('Total Variation:', np.round(tv, 4))\n",
    "print('DAG with no direct effect from X to Y')\n",
    "display(dag_no_de) #printing the DAG\n",
    "############################SCM with direct effect from X to Y###############################################\n",
    "print('\\n SCM with direct effect from X to Y')\n",
    "#print gender distribution\n",
    "print(\"Gender distribution: \", scm_no_de['X'].value_counts(normalize=True))\n",
    "# group by X=0 and X=1 and then compute mean D, Z and Y\n",
    "#indices where X = 0\n",
    "indices_x0 = scm_de[scm_de['X'] == 0].index\n",
    "#indices where X = 1\n",
    "indices_x1 = scm_de[scm_de['X'] == 1].index\n",
    "#mean of D, Z and Y when X = 0\n",
    "mean_x0 = np.round(scm_de.loc[indices_x0].mean().drop('X'),2) \n",
    "#mean of D, Z and Y when X = 1\n",
    "mean_x1 = np.round(scm_de.loc[indices_x1].mean().drop('X'),2)\n",
    "#display in a table, where X = 0 and X = 1 are the rows and D, Z and Y are the columns\n",
    "print(pd.DataFrame(np.matrix([mean_x0, mean_x1]), columns=['D', 'Z', 'Y'], index=['X=0', 'X=1']))\n",
    "##Find conditional probability of Y = 1 given X = 1\n",
    "p_y_given_x1 = ((scm_de[scm_de['X'] == 1]['Y'] == 1).sum()) / len(scm_de[scm_de['X'] == 1]) \n",
    "#find conditional probability of Y = 1 given X = 0\n",
    "p_y_given_x0 = ((scm_de[scm_de['X'] == 0]['Y'] == 1).sum()) / len(scm_de[scm_de['X'] == 0])\n",
    "## find their difference\n",
    "print('Conditional probability of Y = 1 given X = 1:', np.round(p_y_given_x1, 4))\n",
    "print('Conditional probability of Y = 1 given X = 0:', np.round(p_y_given_x0, 4))\n",
    "tv = p_y_given_x1 - p_y_given_x0\n",
    "print('Total Variation:', np.round(tv, 4))\n",
    "print('DAG with direct effect from X to Y')\n",
    "display(dag_de) #printing the DAG\n",
    "\n",
    "\n"
   ]
  },
  {
   "cell_type": "markdown",
   "metadata": {},
   "source": [
    "2. Now we are going to train two predictors on data. \n",
    "First, simple logistic regression without any constraints\n",
    "Second, logistic regression with reduction approach inspired by Agarwal et al. 2018 and implemented using the fairlearn package. "
   ]
  },
  {
   "cell_type": "markdown",
   "metadata": {},
   "source": [
    "2.1 First, we split our data into training and test set."
   ]
  },
  {
   "cell_type": "code",
   "execution_count": 189,
   "metadata": {},
   "outputs": [],
   "source": [
    "#Split the data into training and test sets\n",
    "features = ['D', 'Z']\n",
    "sensitive_attribute = ['X']\n",
    "features_no_de = scm_no_de[features]\n",
    "sensitive_attribute_no_de = scm_no_de[sensitive_attribute]\n",
    "#Create dummy variables for Variable D as it is binary\n",
    "features_no_de = pd.get_dummies(features_no_de, columns = ['D'], drop_first=False)\n",
    "target_no_de = scm_no_de['Y']\n",
    "\n",
    "features_de = scm_de[features]\n",
    "sensitive_attribute_de = scm_de[sensitive_attribute]\n",
    "#Create dummy variables for the features as they are all binary\n",
    "features_de = pd.get_dummies(features_de,  columns = ['D'], drop_first=False)\n",
    "target_de = scm_de['Y']\n",
    "#Create training and test sets\n",
    "X_train_no_de, X_test_no_de, y_train_no_de, y_test_no_de, A_train_no_de,A_test_no_de  = train_test_split(features_no_de, target_no_de,sensitive_attribute_no_de, test_size=0.25, random_state=random_seed)\n",
    "X_train_de, X_test_de, y_train_de, y_test_de, A_train_de,A_test_de = train_test_split(features_de, target_de,sensitive_attribute_de, test_size=0.25, random_state=random_seed)\n"
   ]
  },
  {
   "cell_type": "markdown",
   "metadata": {},
   "source": [
    "2.2 Now we will fit our baseline classifier - logistic regression without any constraints"
   ]
  },
  {
   "cell_type": "code",
   "execution_count": 183,
   "metadata": {},
   "outputs": [
    {
     "name": "stdout",
     "output_type": "stream",
     "text": [
      "No direct effect from X to Y\n",
      "Accuracy: 0.652\n",
      "Total Variation: 0.308\n",
      "Direct effect from X to Y\n",
      "Accuracy: 0.716\n",
      "Total Variation: 0.2501\n"
     ]
    }
   ],
   "source": [
    "np.random.seed(random_seed)\n",
    "#Now we will fit a logistic regression model to the data for both SCMs\n",
    "#Fit a logistic regression model to the data\n",
    "\n",
    "logistic_model_no_de = LogisticRegressionCV(cv=5, random_state=random_seed)\n",
    "logistic_model_no_de.fit(X_train_no_de, y_train_no_de)\n",
    "logistic_model_de = LogisticRegressionCV(cv=5, random_state=random_seed)\n",
    "logistic_model_de.fit(X_train_de, y_train_de)\n",
    "\n",
    "#Make predictions\n",
    "y_pred_no_de = logistic_model_no_de.predict(X_test_no_de)\n",
    "y_pred_de = logistic_model_de.predict(X_test_de)\n",
    "\n",
    "#Evaluate the model\n",
    "print('No direct effect from X to Y')\n",
    "print('Accuracy:', accuracy_score(y_test_no_de, y_pred_no_de))\n",
    "#compute total variation (TV) between the predicted and actual values of Y conditional on X\n",
    "#Compute P(Y=1|X=1)\n",
    "p_y_given_x1 = y_pred_no_de[A_test_no_de['X'] == 1].mean()\n",
    "#Compute P(Y=1|X=0)\n",
    "p_y_given_x0 = y_pred_no_de[A_test_no_de['X'] == 0].mean()\n",
    "#Compute TV\n",
    "tv = np.abs(p_y_given_x1 - p_y_given_x0)\n",
    "print('Total Variation:', np.round(tv,4))\n",
    "print('Direct effect from X to Y')\n",
    "print('Accuracy:', accuracy_score(y_test_de, y_pred_de))\n",
    "#compute total variation (TV) between the predicted and actual values of Y conditional on X\n",
    "#Compute P(Y=1|X=1)\n",
    "p_y_given_x1 = y_pred_de[A_test_de['X'] == 1].mean()\n",
    "#Compute P(Y=1|X=0)\n",
    "p_y_given_x0 = y_pred_de[A_test_de['X'] == 0].mean()\n",
    "#Compute TV\n",
    "tv = np.abs(p_y_given_x1 - p_y_given_x0)\n",
    "print('Total Variation:', np.round(tv,4))\n"
   ]
  },
  {
   "cell_type": "markdown",
   "metadata": {},
   "source": [
    "We can see that in the case where there is a direct effect from X to Y, we see higher accuracy. Also, we see a higher TV measure for the case where there is no direct effect from X to Y.\n"
   ]
  },
  {
   "cell_type": "markdown",
   "metadata": {},
   "source": [
    "2.3 Now, we will fit a \"fair\" model, which is a reductions approach as in Agarwal et al. 2018"
   ]
  },
  {
   "cell_type": "code",
   "execution_count": 190,
   "metadata": {},
   "outputs": [
    {
     "name": "stderr",
     "output_type": "stream",
     "text": [
      "c:\\Users\\41782\\miniconda3\\envs\\Thesis\\lib\\site-packages\\fairlearn\\reductions\\_moments\\utility_parity.py:214: FutureWarning: ChainedAssignmentError: behaviour will change in pandas 3.0!\n",
      "You are setting values through chained assignment. Currently this works in certain cases, but when using Copy-on-Write (which will become the default behaviour in pandas 3.0) this will never work to update the original DataFrame or Series, because the intermediate object on which we are setting values will behave as a copy.\n",
      "A typical example is when you are setting values in a column of a DataFrame, like:\n",
      "\n",
      "df[\"col\"][row_indexer] = value\n",
      "\n",
      "Use `df.loc[row_indexer, \"col\"] = values` instead, to perform the assignment in a single step and ensure this keeps updating the original `df`.\n",
      "\n",
      "See the caveats in the documentation: https://pandas.pydata.org/pandas-docs/stable/user_guide/indexing.html#returning-a-view-versus-a-copy\n",
      "\n",
      "  self.pos_basis[i][\"+\", e, g] = 1\n",
      "c:\\Users\\41782\\miniconda3\\envs\\Thesis\\lib\\site-packages\\fairlearn\\reductions\\_moments\\utility_parity.py:215: FutureWarning: ChainedAssignmentError: behaviour will change in pandas 3.0!\n",
      "You are setting values through chained assignment. Currently this works in certain cases, but when using Copy-on-Write (which will become the default behaviour in pandas 3.0) this will never work to update the original DataFrame or Series, because the intermediate object on which we are setting values will behave as a copy.\n",
      "A typical example is when you are setting values in a column of a DataFrame, like:\n",
      "\n",
      "df[\"col\"][row_indexer] = value\n",
      "\n",
      "Use `df.loc[row_indexer, \"col\"] = values` instead, to perform the assignment in a single step and ensure this keeps updating the original `df`.\n",
      "\n",
      "See the caveats in the documentation: https://pandas.pydata.org/pandas-docs/stable/user_guide/indexing.html#returning-a-view-versus-a-copy\n",
      "\n",
      "  self.neg_basis[i][\"-\", e, g] = 1\n",
      "c:\\Users\\41782\\miniconda3\\envs\\Thesis\\lib\\site-packages\\fairlearn\\reductions\\_moments\\utility_parity.py:214: FutureWarning: ChainedAssignmentError: behaviour will change in pandas 3.0!\n",
      "You are setting values through chained assignment. Currently this works in certain cases, but when using Copy-on-Write (which will become the default behaviour in pandas 3.0) this will never work to update the original DataFrame or Series, because the intermediate object on which we are setting values will behave as a copy.\n",
      "A typical example is when you are setting values in a column of a DataFrame, like:\n",
      "\n",
      "df[\"col\"][row_indexer] = value\n",
      "\n",
      "Use `df.loc[row_indexer, \"col\"] = values` instead, to perform the assignment in a single step and ensure this keeps updating the original `df`.\n",
      "\n",
      "See the caveats in the documentation: https://pandas.pydata.org/pandas-docs/stable/user_guide/indexing.html#returning-a-view-versus-a-copy\n",
      "\n",
      "  self.pos_basis[i][\"+\", e, g] = 1\n",
      "c:\\Users\\41782\\miniconda3\\envs\\Thesis\\lib\\site-packages\\fairlearn\\reductions\\_moments\\utility_parity.py:215: FutureWarning: ChainedAssignmentError: behaviour will change in pandas 3.0!\n",
      "You are setting values through chained assignment. Currently this works in certain cases, but when using Copy-on-Write (which will become the default behaviour in pandas 3.0) this will never work to update the original DataFrame or Series, because the intermediate object on which we are setting values will behave as a copy.\n",
      "A typical example is when you are setting values in a column of a DataFrame, like:\n",
      "\n",
      "df[\"col\"][row_indexer] = value\n",
      "\n",
      "Use `df.loc[row_indexer, \"col\"] = values` instead, to perform the assignment in a single step and ensure this keeps updating the original `df`.\n",
      "\n",
      "See the caveats in the documentation: https://pandas.pydata.org/pandas-docs/stable/user_guide/indexing.html#returning-a-view-versus-a-copy\n",
      "\n",
      "  self.neg_basis[i][\"-\", e, g] = 1\n"
     ]
    }
   ],
   "source": [
    "#Now we will fit a \"fair\" model using Fairlearn to the data for both SCMs for the same base classifier\n",
    "np.random.seed(random_seed)\n",
    "\n",
    "fair_logistic_model_no_de = ExponentiatedGradient(logistic_model_no_de,\n",
    "                   constraints=DemographicParity(difference_bound=0))\n",
    "fair_logistic_model_no_de.fit(X_train_no_de, y_train_no_de, sensitive_features=A_train_no_de)\n",
    "\n",
    "fair_logistic_model_de = ExponentiatedGradient(logistic_model_de,\n",
    "                   constraints=DemographicParity(difference_bound=0))\n",
    "fair_logistic_model_de.fit(X_train_de, y_train_de, sensitive_features=A_train_de)   \n",
    "\n",
    "#Make predictions\n",
    "y_pred_fair_no_de = fair_logistic_model_no_de.predict(X_test_no_de)\n",
    "y_pred_fair_de = fair_logistic_model_de.predict(X_test_de)\n"
   ]
  },
  {
   "cell_type": "code",
   "execution_count": 191,
   "metadata": {},
   "outputs": [
    {
     "name": "stdout",
     "output_type": "stream",
     "text": [
      "No direct effect from X to Y - Fair Model\n",
      "Accuracy: 0.572\n",
      "Total Variation: 0.1201\n",
      "Direct effect from X to Y - Fair Model\n",
      "Accuracy: 0.524\n",
      "Total Variation: 0.0632\n"
     ]
    }
   ],
   "source": [
    "#Evaluate the model\n",
    "print('No direct effect from X to Y - Fair Model')\n",
    "print('Accuracy:', accuracy_score(y_test_no_de, y_pred_fair_no_de))\n",
    "#compute total variation (TV) between the predicted and actual values of Y conditional on X\n",
    "#Compute P(Y=1|X=1)\n",
    "p_y_given_x1 = y_pred_fair_no_de[A_test_no_de['X'] == 1].mean()\n",
    "#Compute P(Y=1|X=0)\n",
    "p_y_given_x0 = y_pred_fair_no_de[A_test_no_de['X'] == 0].mean()\n",
    "#Compute TV\n",
    "tv = np.abs(p_y_given_x1 - p_y_given_x0)\n",
    "print('Total Variation:', np.round(tv,4))\n",
    "print('Direct effect from X to Y - Fair Model')\n",
    "print('Accuracy:', accuracy_score(y_test_de, y_pred_fair_de))\n",
    "#compute total variation (TV) between the predicted and actual values of Y conditional on X\n",
    "#Compute P(Y=1|X=1)\n",
    "p_y_given_x1 = y_pred_fair_de[A_test_de['X'] == 1].mean()\n",
    "#Compute P(Y=1|X=0)\n",
    "p_y_given_x0 = y_pred_fair_de[A_test_de['X'] == 0].mean()\n",
    "#Compute TV\n",
    "tv = np.abs(p_y_given_x1 - p_y_given_x0)\n",
    "print('Total Variation:', np.round(tv,4))"
   ]
  },
  {
   "cell_type": "markdown",
   "metadata": {},
   "source": [
    "In comparison to the unconstrained case, we definetly see some drop in accuracy. However, the total variation is significantly reduced. A bit surprising is that the Total Variation is still not near zero for both cases. I followed the documentation of the fairlearn package quite closely, nonetheless, I will need to have another look to check the result."
   ]
  },
  {
   "cell_type": "markdown",
   "metadata": {},
   "source": [
    "3. Distribution Shift"
   ]
  },
  {
   "cell_type": "markdown",
   "metadata": {},
   "source": [
    "3.1 Generate shifted data. We will now generate new data where there is a shift in D. The shift affects the exogenous variable, and the magnitude of effects from Z and X on D. We could think of this shifted data, as admissions data from another University, for instance, the University of Alaska. "
   ]
  },
  {
   "cell_type": "code",
   "execution_count": 199,
   "metadata": {},
   "outputs": [
    {
     "name": "stdout",
     "output_type": "stream",
     "text": [
      "Shifted SCM with no direct effect from X to Y\n",
      "Gender distribution:  X\n",
      "0    0.503\n",
      "1    0.497\n",
      "Name: proportion, dtype: float64\n",
      "         D     Z     Y\n",
      "X=0  73.25  0.06  0.36\n",
      "X=1  75.60  0.96  0.69\n",
      "Conditional probability of Y = 1 given X = 1: 0.6861\n",
      "Conditional probability of Y = 1 given X = 0: 0.3638\n",
      "Total Variation: 0.3223\n",
      "\n",
      " Shifted SCM with direct effect from X to Y\n",
      "Gender distribution:  X\n",
      "0    0.537\n",
      "1    0.463\n",
      "Name: proportion, dtype: float64\n",
      "         D     Z     Y\n",
      "X=0  73.95  0.01  0.27\n",
      "X=1  73.27  0.98  0.87\n",
      "Conditional probability of Y = 1 given X = 1: 0.8661\n",
      "Conditional probability of Y = 1 given X = 0: 0.2737\n",
      "Total Variation: 0.5923\n",
      "DAG with direct effect from X to Y\n"
     ]
    }
   ],
   "source": [
    "np.random.seed(random_seed)\n",
    "#we will generate two new datasets where the generating distribution is shifted. We make the shift more extreme on purpose to make the neccesity of causal constraints more apparent\n",
    "shift_scm_no_de = berkeley_admissions_data(n,0.5,0.01,0.9,0.1,0,0.3,0.09,0.5)[0] #shift in D (exogenous factor + effect of X on D  + effect of Z on D)\n",
    "shift_scm_de = berkeley_admissions_data(n,0.5,0.01,0.95,0.1,0.3,0.3,0.01,0.3)[0] #shift in D (exogenous factor + effect of X on D +effect of Z on D)\n",
    "\n",
    "\n",
    "#similar to before: exlore data\n",
    "############################SCM with no direct effect from X to Y###############################################\n",
    "print('Shifted SCM with no direct effect from X to Y')\n",
    "#print gender distribution\n",
    "print(\"Gender distribution: \", shift_scm_no_de['X'].value_counts(normalize=True))\n",
    "# group by X=0 and X=1 and then compute mean D, Z and Y\n",
    "#indices where X = 0\n",
    "indices_x0 = shift_scm_no_de[shift_scm_no_de['X'] == 0].index\n",
    "#indices where X = 1\n",
    "indices_x1 = shift_scm_no_de[shift_scm_no_de['X'] == 1].index\n",
    "#mean of D, Z and Y when X = 0\n",
    "mean_x0 = np.round(shift_scm_no_de.loc[indices_x0].mean().drop('X'),2) \n",
    "#mean of D, Z and Y when X = 1\n",
    "mean_x1 = np.round(shift_scm_no_de.loc[indices_x1].mean().drop('X'),2)\n",
    "#display in a table, where X = 0 and X = 1 are the rows and D, Z and Y are the columns\n",
    "print(pd.DataFrame(np.matrix([mean_x0, mean_x1]), columns=['D', 'Z', 'Y'], index=['X=0', 'X=1']))\n",
    "##Find conditional probability of Y = 1 given X = 1\n",
    "p_y_given_x1 = ((shift_scm_no_de[shift_scm_no_de['X'] == 1]['Y'] == 1).sum()) / len(shift_scm_no_de[shift_scm_no_de['X'] == 1]) \n",
    "#find conditional probability of Y = 1 given X = 0\n",
    "p_y_given_x0 = ((shift_scm_no_de[shift_scm_no_de['X'] == 0]['Y'] == 1).sum()) / len(shift_scm_no_de[shift_scm_no_de['X'] == 0])\n",
    "## find their difference\n",
    "print('Conditional probability of Y = 1 given X = 1:', np.round(p_y_given_x1, 4))\n",
    "print('Conditional probability of Y = 1 given X = 0:', np.round(p_y_given_x0, 4))\n",
    "tv = p_y_given_x1 - p_y_given_x0\n",
    "print('Total Variation:', np.round(tv, 4))\n",
    "############################SCM with direct effect from X to Y###############################################\n",
    "print('\\n Shifted SCM with direct effect from X to Y')\n",
    "#print gender distribution\n",
    "print(\"Gender distribution: \", shift_scm_de['X'].value_counts(normalize=True))\n",
    "# group by X=0 and X=1 and then compute mean D, Z and Y\n",
    "#indices where X = 0\n",
    "indices_x0 = shift_scm_de[shift_scm_de['X'] == 0].index\n",
    "#indices where X = 1\n",
    "indices_x1 = shift_scm_de[shift_scm_de['X'] == 1].index\n",
    "#mean of D, Z and Y when X = 0\n",
    "mean_x0 = np.round(shift_scm_de.loc[indices_x0].mean().drop('X'),2) \n",
    "#mean of D, Z and Y when X = 1\n",
    "mean_x1 = np.round(shift_scm_de.loc[indices_x1].mean().drop('X'),2)\n",
    "#display in a table, where X = 0 and X = 1 are the rows and D, Z and Y are the columns\n",
    "print(pd.DataFrame(np.matrix([mean_x0, mean_x1]), columns=['D', 'Z', 'Y'], index=['X=0', 'X=1']))\n",
    "##Find conditional probability of Y = 1 given X = 1\n",
    "p_y_given_x1 = ((shift_scm_de[shift_scm_de['X'] == 1]['Y'] == 1).sum()) / len(shift_scm_de[shift_scm_de['X'] == 1]) \n",
    "#find conditional probability of Y = 1 given X = 0\n",
    "p_y_given_x0 = ((shift_scm_de[shift_scm_de['X'] == 0]['Y'] == 1).sum()) / len(shift_scm_de[shift_scm_de['X'] == 0])\n",
    "## find their difference\n",
    "print('Conditional probability of Y = 1 given X = 1:', np.round(p_y_given_x1, 4))\n",
    "print('Conditional probability of Y = 1 given X = 0:', np.round(p_y_given_x0, 4))\n",
    "tv = p_y_given_x1 - p_y_given_x0\n",
    "print('Total Variation:', np.round(tv, 4))\n",
    "print('DAG with direct effect from X to Y')\n",
    "\n",
    "\n",
    "\n"
   ]
  },
  {
   "cell_type": "markdown",
   "metadata": {},
   "source": [
    "3.2 Different to before, we will deploy the previously trained models on the new domain (i.e. we will apply them to the full dataset to emulate deployed productized algorithms in real-life)"
   ]
  },
  {
   "cell_type": "code",
   "execution_count": 200,
   "metadata": {},
   "outputs": [],
   "source": [
    "#Split the data into training,test sets and also save the sensitive attribute\n",
    "features = ['D','Z']\n",
    "sensitive_attribute = ['X']\n",
    "features_no_de = shift_scm_no_de[features]\n",
    "sensitive_attribute_no_de = shift_scm_no_de[sensitive_attribute]\n",
    "#Create dummy variables for the features as they are all binary\n",
    "features_no_de = pd.get_dummies(features_no_de, columns = ['D'], drop_first=False)\n",
    "target_no_de = shift_scm_no_de['Y']\n",
    "#We will predictions now on the whole dataset\n",
    "X_shift_no_de = features_no_de\n",
    "\n",
    "features_de = shift_scm_de[features]\n",
    "sensitive_attribute_de = shift_scm_de[sensitive_attribute]\n",
    "#Create dummy variables for the features as they are all binary\n",
    "features_de = pd.get_dummies(features_de, columns = ['D'], drop_first=False)\n",
    "target_de = shift_scm_de['Y']\n",
    "#We will predictions now on the whole dataset\n",
    "X_shift_de = features_de\n",
    "\n"
   ]
  },
  {
   "cell_type": "code",
   "execution_count": 201,
   "metadata": {},
   "outputs": [
    {
     "name": "stdout",
     "output_type": "stream",
     "text": [
      "No direct effect from X to Y\n",
      "Accuracy: 0.669\n",
      "Total Variation: 0.6968\n",
      "Direct effect from X to Y\n",
      "Accuracy: 0.796\n",
      "Total Variation: 0.9694\n",
      "No direct effect from X to Y - fair model\n",
      "Accuracy: 0.535\n",
      "Total Variation: 0.29\n",
      "Direct effect from X to Y - fair model\n",
      "Accuracy: 0.544\n",
      "Total Variation: 0.0244\n"
     ]
    }
   ],
   "source": [
    "np.random.seed(random_seed)\n",
    "#Make predictions using the previously trained models\n",
    "y_pred_shift_no_de = logistic_model_no_de.predict(X_shift_no_de)\n",
    "y_pred_shift_de = logistic_model_de.predict(X_shift_de)\n",
    "y_pred_fair_shift_no_de = fair_logistic_model_no_de.predict(X_shift_no_de)\n",
    "y_pred_fair_shift_de = fair_logistic_model_de.predict(X_shift_de)\n",
    "\n",
    "#Evaluate the models\n",
    "print('No direct effect from X to Y')\n",
    "print('Accuracy:', accuracy_score(target_no_de, y_pred_shift_no_de))\n",
    "#compute total variation (TV) between the predicted and actual values of Y conditional on X\n",
    "#Compute P(Y=1|X=1)\n",
    "p_y_given_x1 = y_pred_shift_no_de[sensitive_attribute_no_de['X'] == 1].mean()\n",
    "#Compute P(Y=1|X=0)\n",
    "p_y_given_x0 = y_pred_shift_no_de[sensitive_attribute_no_de['X'] == 0].mean()\n",
    "#Compute TV\n",
    "tv = np.abs(p_y_given_x1 - p_y_given_x0)\n",
    "print('Total Variation:', np.round(tv,4))\n",
    "print('Direct effect from X to Y')\n",
    "print('Accuracy:', accuracy_score(target_de, y_pred_shift_de))\n",
    "#compute total variation (TV) between the predicted and actual values of Y conditional on X\n",
    "#Compute P(Y=1|X=1)\n",
    "p_y_given_x1 = y_pred_shift_de[sensitive_attribute_de['X'] == 1].mean()\n",
    "#Compute P(Y=1|X=0)\n",
    "p_y_given_x0 = y_pred_shift_de[sensitive_attribute_de['X'] == 0].mean()\n",
    "#Compute TV\n",
    "tv = np.abs(p_y_given_x1 - p_y_given_x0)\n",
    "print('Total Variation:', np.round(tv,4))\n",
    "print('No direct effect from X to Y - fair model')\n",
    "print('Accuracy:', accuracy_score(target_no_de, y_pred_fair_shift_no_de))\n",
    "#compute total variation (TV) between the predicted and actual values of Y conditional on X\n",
    "#Compute P(Y=1|X=1)\n",
    "p_y_given_x1 = y_pred_fair_shift_no_de[sensitive_attribute_no_de['X'] == 1].mean()\n",
    "#Compute P(Y=1|X=0)\n",
    "p_y_given_x0 = y_pred_fair_shift_no_de[sensitive_attribute_no_de['X'] == 0].mean()\n",
    "#Compute TV\n",
    "tv = np.abs(p_y_given_x1 - p_y_given_x0)\n",
    "print('Total Variation:', np.round(tv,4))\n",
    "print('Direct effect from X to Y - fair model')\n",
    "print('Accuracy:', accuracy_score(target_de, y_pred_fair_shift_de))\n",
    "#compute total variation (TV) between the predicted and actual values of Y conditional on X\n",
    "#Compute P(Y=1|X=1)\n",
    "p_y_given_x1 = y_pred_fair_shift_de[sensitive_attribute_de['X'] == 1].mean()\n",
    "#Compute P(Y=1|X=0)\n",
    "p_y_given_x0 = y_pred_fair_shift_de[sensitive_attribute_de['X'] == 0].mean()\n",
    "#Compute TV\n",
    "tv = np.abs(p_y_given_x1 - p_y_given_x0)\n",
    "print('Total Variation:', np.round(tv,4))\n"
   ]
  },
  {
   "cell_type": "markdown",
   "metadata": {},
   "source": [
    "In this case, we made the environment such that D depends very strongly on X (indirect effect is increased). The two baseline classifiers while being more accurate than on the training domain they extremely worsened when considering the Total Variation for the predicted Y's. \n",
    "\n",
    "For the two \"fair\" models we also see quite interesting results. While the accuracy stays somewhat in the same ballpark as in the training environment, we see that opposite results for the Total Variation. In the case of no direct effect, the Total Variation increases strongly, while in the case with a direct effect, the Total Variation shrinks quite strongly. \n",
    "\n",
    "The caveat is that this is a very artificial scenario and possibly not very realistic in practive. However, what it still hints at is that simply minimizing a (not decomposed) metric such as the Total Variation/Demographic Parity will give us no guarantee with respect to its behaviour under distribution shifts. This makes them somewhat unpredictable and a potential danger in safety-critical applications. Thus, it incentivizes to search for alternatives, for instance, finer-grained causal constraints."
   ]
  }
 ],
 "metadata": {
  "kernelspec": {
   "display_name": "Thesis",
   "language": "python",
   "name": "python3"
  },
  "language_info": {
   "codemirror_mode": {
    "name": "ipython",
    "version": 3
   },
   "file_extension": ".py",
   "mimetype": "text/x-python",
   "name": "python",
   "nbconvert_exporter": "python",
   "pygments_lexer": "ipython3",
   "version": "3.10.14"
  }
 },
 "nbformat": 4,
 "nbformat_minor": 2
}
