{
 "cells": [
  {
   "cell_type": "code",
   "execution_count": 1,
   "metadata": {},
   "outputs": [],
   "source": [
    "import pandas as pd\n",
    "\n",
    "#Load in all the different csv files\n",
    "compas_path = \"data/compas\"\n",
    "recidivism_path = \"data/recidivism\"\n",
    "\n",
    "#Compas data\n",
    "compas_scores_raw = pd.read_csv(f\"{compas_path}/compas-scores-raw.csv\")\n",
    "compas_scores_two_years = pd.read_csv(f\"{compas_path}/compas-scores-two-years.csv\")\n",
    "compas_database = sqlite3.connect(f\"{compas_path}/compas.db\")\n",
    "#tables = pd.read_sql_query(\"SELECT name FROM sqlite_master WHERE type='table'\", compas_database)\n",
    "\n",
    "#Recidivism data for other states\n",
    "iowa_recidivism = pd.read_csv(f\"{recidivism_path}/Current_Iowa_Correctional_System_Prison_Population_.csv\")"
   ]
  },
  {
   "cell_type": "code",
   "execution_count": 30,
   "metadata": {},
   "outputs": [
    {
     "data": {
      "text/plain": [
       "array(['PRETRIAL', 'Probation', 'DRRD', 'Broward County'], dtype=object)"
      ]
     },
     "execution_count": 30,
     "metadata": {},
     "output_type": "execute_result"
    }
   ],
   "source": [
    "#Compas_scores_raw\n",
    "##Checking number of unique people\n",
    "#number_of_unique_people = compas_scores_raw[\"Person_ID\"].unique().shape[0]   \n",
    "#number_of_unique_people \n",
    "\n",
    "\n",
    "compas_scores_raw[\"Agency_Text\"].unique()\n",
    "\n"
   ]
  },
  {
   "cell_type": "markdown",
   "metadata": {},
   "source": [
    "##### Compas Scores Raw:\n",
    "There are a total of 18610 unique Person_IDs with 20281 unique AssesmentIDs. Hence, there must be people being assesed more than once. There are also 19530 case IDs\n"
   ]
  },
  {
   "cell_type": "code",
   "execution_count": null,
   "metadata": {},
   "outputs": [],
   "source": [
    "###COMPAS SCORES TWO YEARS#############\n",
    "print(compas_scores_two_years.dtypes)\n",
    "#print first 2 values for each column\n",
    "for attribute in compas_scores_two_years.columns:\n",
    "    print(f\"{attribute}: {compas_scores_two_years[attribute][0]}\")\n"
   ]
  },
  {
   "cell_type": "code",
   "execution_count": 40,
   "metadata": {},
   "outputs": [
    {
     "name": "stdout",
     "output_type": "stream",
     "text": [
      "Record ID                          int64\n",
      "Offender Number                    int64\n",
      "Prison Start Date                 object\n",
      "Prison Admission Type             object\n",
      "Intake Supervising Institution    object\n",
      "Supervision Status                object\n",
      "Sex                               object\n",
      "Race & Ethnicity                  object\n",
      "Education Category                object\n",
      "Education                         object\n",
      "Age                                int64\n",
      "Offense Code                      object\n",
      "Offense Classification            object\n",
      "Offense Description               object\n",
      "Offense Type                      object\n",
      "Offense Subtype                   object\n",
      "Months Served                      int64\n",
      "Report Date                       object\n",
      "dtype: object\n",
      "Record ID: 0\n",
      "Offender Number: 20167742\n",
      "Prison Start Date: 05/18/2023\n",
      "Prison Admission Type: Return No New Sentence\n",
      "Intake Supervising Institution: North Central Correctional Facility\n",
      "Supervision Status: Prison\n",
      "Sex: Male\n",
      "Race & Ethnicity: White\n",
      "Education Category: HS Diploma or Equivelent\n",
      "Education: High School Diploma\n",
      "Age: 40\n",
      "Offense Code: 708.2A(2)(c)\n",
      "Offense Classification: Aggravated Misdemeanor\n",
      "Offense Description: Domestic Abuse Assault w/Intent to Inflict Ser. Inj.-1st Off.\n",
      "Offense Type: Violent\n",
      "Offense Subtype: Assault\n",
      "Months Served: 13\n",
      "Report Date: 06/11/2024\n"
     ]
    }
   ],
   "source": [
    "######IOWA RECIDIVISM#############\n",
    "print(iowa_recidivism.dtypes)\n",
    "#print first 2 values for each column\n",
    "for attribute in iowa_recidivism.columns:\n",
    "    print(f\"{attribute}: {iowa_recidivism[attribute][0]}\")"
   ]
  },
  {
   "cell_type": "code",
   "execution_count": null,
   "metadata": {},
   "outputs": [],
   "source": [
    "import graphviz as gr\n",
    "import numpy as np\n",
    "\n",
    "Z1 = \"sex\"\n",
    "Z2 = \"age\"\n",
    "X = \"race\"\n",
    "D = \"c_charge_degree\"\n",
    "Y = \"score_text\"\n",
    "P = \"priors_count\"\n",
    "J_1 = \"juv_fel_count\"\n",
    "J_2 = \"juv_misd_count\"\n",
    "J_3 = \"juv_other_count\" \n",
    "\n",
    "#subset data from compas_scores_2_years\n",
    "compas_scores_two_years_subset = compas_scores_two_years[[X, Z1, Z2, D, Y, P, J_1, J_2, J_3]]\n",
    "compas_scores_two_years_subset[\"J\"] =np.sum(compas_scores_two_years_subset[[J_1, J_2, J_3]], axis=1)\n",
    "compas_scores_two_years_subset.drop([J_1, J_2, J_3], axis=1, inplace=True)\n",
    "\n",
    "#print unique values for race \n",
    "#print(compas_scores_two_years_subset[X].unique())\n",
    "#print(compas_scores_two_years[X].unique())\n",
    "#print(compas_scores_raw[\"Ethnic_Code_Text\"].unique())\n",
    "\n",
    "#change 'Caucassian' to 'White' and all other values to 'Non-White'\n",
    "compas_scores_two_years_subset[X] = compas_scores_two_years_subset[X].replace('Caucasian', 'White')\n",
    "compas_scores_two_years_subset[X] = compas_scores_two_years_subset[X].replace(['African-American', 'Hispanic', 'Asian', 'Other', 'Native American'], 'Non-White')\n",
    "print(compas_scores_two_years_subset[X].unique())\n",
    "\n",
    "#Create a directed acyclic graph\n",
    "DAG = gr.Digraph()\n",
    "#Nodes\n",
    "DAG.node(X) #node for X = Race\n",
    "DAG.node(Z1) #node for Z1 = Gender\n",
    "DAG.node(Z2) #node for Z2 = Age\n",
    "DAG.node(D) #node for D = Degree of charge\n",
    "DAG.node(Y) #node for Y = risk classification\n",
    "DAG.node(P) #node for P = number of prior offenses\n",
    "DAG.node(\"priors_J_count\") #node for J = number of prior juvenile offenses\n",
    "#Edges (directed)\n",
    "DAG.edge(X, Y) #edge from X to Y\n",
    "DAG.edge(Z1, Y) #edge from Z1 to Y\n",
    "DAG.edge(Z2, Y) #edge from Z2 to Y\n",
    "DAG.edge(D, Y) #edge from D to Y\n",
    "DAG.edge(\"priors_J_count\", Y) #edge from J to Y\n",
    "DAG.edge(Z1, \"priors_J_count\") #edge from Z1 to J\n",
    "DAG.edge(Z2, \"priors_J_count\") #edge from Z2 to J\n",
    "DAG.edge(Z1,P) #edge from Z1 to P\n",
    "DAG.edge(Z2,P) #edge from Z2 to P\n",
    "DAG.edge(Z1, D) #edge from Z1 to D\n",
    "DAG.edge(Z2, D) #edge from Z2 to D\n",
    "DAG.edge(X, D) #edge from X to D\n",
    "DAG.edge(X, P) #edge from X to P\n",
    "DAG.edge(X,\"priors_J_count\") #edge from X to J\n",
    "DAG.edge(Z1,Y) #edge from Z1 to Y\n",
    "DAG.edge(Z2,Y) #edge from Z2 to Y\n",
    "#Edges (dashed, bidirectional)\n",
    "DAG.edge(X, Z1, style=\"dashed\" , dir=\"both\") #edge from X to Z1\n",
    "DAG.edge(X, Z2, style=\"dashed\", dir=\"both\") #edge from X to Z2\n",
    "\n",
    "#print the graph\n",
    "display(DAG)\n",
    "\n"
   ]
  }
 ],
 "metadata": {
  "kernelspec": {
   "display_name": "Thesis",
   "language": "python",
   "name": "python3"
  },
  "language_info": {
   "codemirror_mode": {
    "name": "ipython",
    "version": 3
   },
   "file_extension": ".py",
   "mimetype": "text/x-python",
   "name": "python",
   "nbconvert_exporter": "python",
   "pygments_lexer": "ipython3",
   "version": "3.10.14"
  }
 },
 "nbformat": 4,
 "nbformat_minor": 2
}
